{
  "nbformat": 4,
  "nbformat_minor": 0,
  "metadata": {
    "colab": {
      "provenance": [],
      "machine_shape": "hm",
      "gpuType": "T4",
      "mount_file_id": "1K6qm-0gx7D_8orTwh_SDpvGYPhn-NuPv",
      "authorship_tag": "ABX9TyNHYWlcbDIb1Qa76Y3zccEz",
      "include_colab_link": true
    },
    "kernelspec": {
      "name": "python3",
      "display_name": "Python 3"
    },
    "language_info": {
      "name": "python"
    },
    "accelerator": "GPU"
  },
  "cells": [
    {
      "cell_type": "markdown",
      "metadata": {
        "id": "view-in-github",
        "colab_type": "text"
      },
      "source": [
        "<a href=\"https://colab.research.google.com/github/gcsilva83/ChatGPT_Notebooks/blob/main/LangChain_Using_Seq_Chain%2C_chains_%26_agents.ipynb\" target=\"_parent\"><img src=\"https://colab.research.google.com/assets/colab-badge.svg\" alt=\"Open In Colab\"/></a>"
      ]
    },
    {
      "cell_type": "code",
      "source": [
        "pip install openai langchain"
      ],
      "metadata": {
        "id": "EvEOdheGPhPZ"
      },
      "execution_count": null,
      "outputs": []
    },
    {
      "cell_type": "code",
      "source": [
        "import os\n",
        "os.environ[\"OPENAI_API_KEY\"] = \"sk-\""
      ],
      "metadata": {
        "id": "CFPS_potPtoG"
      },
      "execution_count": 4,
      "outputs": []
    },
    {
      "cell_type": "code",
      "source": [
        "from langchain.llms import OpenAI\n",
        "from langchain.agents import initialize_agent\n",
        "from langchain.agents import AgentType\n",
        "from langchain.agents import load_tools\n",
        "from langchain.prompts import PromptTemplate\n"
      ],
      "metadata": {
        "id": "6FDxq7B0Ptrb"
      },
      "execution_count": 21,
      "outputs": []
    },
    {
      "cell_type": "code",
      "source": [
        "llm = OpenAI(temperature=0)\n",
        "tools = load_tools([\"pal-math\"], llm=llm)\n",
        "agent = initialize_agent(tools,\n",
        "                         llm,\n",
        "                         agent=AgentType.ZERO_SHOT_REACT_DESCRIPTION,\n",
        "                         verbose=True)"
      ],
      "metadata": {
        "id": "rNjI0Jj-PtuM"
      },
      "execution_count": 22,
      "outputs": []
    },
    {
      "cell_type": "code",
      "source": [
        "# Chain1 - solve math problem, get the age\n",
        "chain_one = agent\n",
        "\n",
        "# Chain2 - suggest age-appropriate gift\n",
        "template = \"\"\"You are a gift recommender. Given a person's age,\\n\n",
        " it is your job to suggest an appropriate gift for them.\n",
        "\n",
        "Person Age:\n",
        "{age}\n",
        "Suggest gift:\"\"\"\n",
        "prompt_template = PromptTemplate(input_variables=[\"age\"], template=template)\n",
        "chain_two = LLMChain(llm=llm, prompt=prompt_template)"
      ],
      "metadata": {
        "id": "_5UIvgE8PnDn"
      },
      "execution_count": 23,
      "outputs": []
    },
    {
      "cell_type": "code",
      "source": [
        "from langchain.chains import SimpleSequentialChain\n",
        "\n",
        "overall_chain = SimpleSequentialChain(\n",
        "                  chains=[chain_one, chain_two],\n",
        "                  verbose=True)"
      ],
      "metadata": {
        "id": "m4sfAL8MH3LI"
      },
      "execution_count": 24,
      "outputs": []
    },
    {
      "cell_type": "code",
      "source": [
        "question = \"The sum of three consecutive integers is 306. What is the largest integer?\"\n",
        "overall_chain.run(question)\n"
      ],
      "metadata": {
        "colab": {
          "base_uri": "https://localhost:8080/",
          "height": 454
        },
        "id": "AcJqDjBnQ2MJ",
        "outputId": "926f6d28-9f5e-4bb9-b893-5b4860cd752d"
      },
      "execution_count": 31,
      "outputs": [
        {
          "output_type": "stream",
          "name": "stdout",
          "text": [
            "\n",
            "\n",
            "\u001b[1m> Entering new  chain...\u001b[0m\n",
            "\n",
            "\n",
            "\u001b[1m> Entering new  chain...\u001b[0m\n",
            "\u001b[32;1m\u001b[1;3m I need to use PAL-MATH to solve this problem.\n",
            "Action: PAL-MATH\n",
            "Action Input: The sum of three consecutive integers is 306.\u001b[0m\n",
            "Observation: \u001b[36;1m\u001b[1;3m[101, 102, 103]\u001b[0m\n",
            "Thought:\u001b[32;1m\u001b[1;3m I now know the largest integer is 103.\n",
            "Final Answer: 103\u001b[0m\n",
            "\n",
            "\u001b[1m> Finished chain.\u001b[0m\n",
            "\u001b[36;1m\u001b[1;3m103\u001b[0m\n",
            "\u001b[33;1m\u001b[1;3m\n",
            "A personalized photo album or scrapbook filled with memories of their life. A book of their favorite poems or stories. A special piece of jewelry or a watch. A gift certificate to a favorite restaurant or store. A subscription to a magazine or newspaper. A gift basket filled with their favorite treats. A framed picture of a special moment or place. A gift card to a spa or salon. A subscription to a streaming service. A gift certificate for a special experience. A gift certificate for a special class or workshop. A gift certificate for a special trip or vacation.\u001b[0m\n",
            "\n",
            "\u001b[1m> Finished chain.\u001b[0m\n"
          ]
        },
        {
          "output_type": "execute_result",
          "data": {
            "text/plain": [
              "'\\nA personalized photo album or scrapbook filled with memories of their life. A book of their favorite poems or stories. A special piece of jewelry or a watch. A gift certificate to a favorite restaurant or store. A subscription to a magazine or newspaper. A gift basket filled with their favorite treats. A framed picture of a special moment or place. A gift card to a spa or salon. A subscription to a streaming service. A gift certificate for a special experience. A gift certificate for a special class or workshop. A gift certificate for a special trip or vacation.'"
            ],
            "application/vnd.google.colaboratory.intrinsic+json": {
              "type": "string"
            }
          },
          "metadata": {},
          "execution_count": 31
        }
      ]
    },
    {
      "cell_type": "code",
      "source": [],
      "metadata": {
        "id": "0K1Zd_i_R1Cn"
      },
      "execution_count": null,
      "outputs": []
    }
  ]
}
